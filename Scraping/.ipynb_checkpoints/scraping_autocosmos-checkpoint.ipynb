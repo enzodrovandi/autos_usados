{
 "cells": [
  {
   "cell_type": "code",
   "execution_count": 1,
   "id": "407c61b4-89a2-46fe-b4e9-3b784863d9d1",
   "metadata": {},
   "outputs": [],
   "source": [
    "import requests\n",
    "from bs4 import BeautifulSoup as bs\n",
    "import pandas as pd\n",
    "import regex as re"
   ]
  },
  {
   "cell_type": "code",
   "execution_count": 12,
   "id": "33741e46-faab-4d93-be0d-539a38cb77a9",
   "metadata": {},
   "outputs": [],
   "source": [
    "r = requests.get('https://auto.deautos.com/usados-bmw-140-140i-m-3-p-sedan-nafta-gran-buenos-aires-san-isidro-martinez/2017_4200356')\n",
    "\n",
    "soup = bs(r.content)\n",
    "\n",
    "contents = soup.prettify()"
   ]
  },
  {
   "cell_type": "code",
   "execution_count": 13,
   "id": "a03317b9-ce3d-480a-b978-2c13cc7794e3",
   "metadata": {},
   "outputs": [
    {
     "ename": "AttributeError",
     "evalue": "'NoneType' object has no attribute 'find'",
     "output_type": "error",
     "traceback": [
      "\u001b[0;31m---------------------------------------------------------------------------\u001b[0m",
      "\u001b[0;31mAttributeError\u001b[0m                            Traceback (most recent call last)",
      "Input \u001b[0;32mIn [13]\u001b[0m, in \u001b[0;36m<cell line: 3>\u001b[0;34m()\u001b[0m\n\u001b[1;32m      1\u001b[0m main \u001b[38;5;241m=\u001b[39m soup\u001b[38;5;241m.\u001b[39mfind(\u001b[38;5;124m'\u001b[39m\u001b[38;5;124mdiv\u001b[39m\u001b[38;5;124m'\u001b[39m, class_\u001b[38;5;241m=\u001b[39m\u001b[38;5;124m'\u001b[39m\u001b[38;5;124mcontainer\u001b[39m\u001b[38;5;124m'\u001b[39m)\n\u001b[0;32m----> 3\u001b[0m title \u001b[38;5;241m=\u001b[39m \u001b[43mmain\u001b[49m\u001b[38;5;241;43m.\u001b[39;49m\u001b[43mfind\u001b[49m(\u001b[38;5;124m'\u001b[39m\u001b[38;5;124mh4\u001b[39m\u001b[38;5;124m'\u001b[39m, class_\u001b[38;5;241m=\u001b[39m\u001b[38;5;124m'\u001b[39m\u001b[38;5;124mbrand-model-version\u001b[39m\u001b[38;5;124m'\u001b[39m)\u001b[38;5;241m.\u001b[39mget_text()\n",
      "\u001b[0;31mAttributeError\u001b[0m: 'NoneType' object has no attribute 'find'"
     ]
    }
   ],
   "source": [
    "main = soup.find('div', class_='container')\n",
    "\n",
    "title = main.find('h4', class_='brand-model-version').get_text()"
   ]
  },
  {
   "cell_type": "code",
   "execution_count": 6,
   "id": "4d1aa5cd-ed77-4ba2-a064-2e9db6d82119",
   "metadata": {},
   "outputs": [
    {
     "data": {
      "text/plain": [
       "'Honda Civic EXL 2.0 L/17'"
      ]
     },
     "execution_count": 6,
     "metadata": {},
     "output_type": "execute_result"
    }
   ],
   "source": [
    "title"
   ]
  },
  {
   "cell_type": "code",
   "execution_count": 7,
   "id": "84b21c2b-1c52-4bd0-8dda-ef05afa71a78",
   "metadata": {},
   "outputs": [],
   "source": [
    "p1 = re.compile(\"\\d\")\n",
    "p2 = re.compile(\"\\D\")\n",
    "\n",
    "currency = p1.split(main.find(class_='price').get_text().replace(\".\",\"\"))[0]\n",
    "\n",
    "\n",
    "if currency == 'U$S':\n",
    "    price = p2.split(main.find(class_='price').get_text().replace(\".\",\"\"))[3]\n",
    "    \n",
    "else:\n",
    "    price = p2.split(main.find(class_='price').get_text().replace(\".\",\"\"))[1]\n"
   ]
  },
  {
   "cell_type": "code",
   "execution_count": 8,
   "id": "7f672f64-cb02-46c2-a8c3-c025ef4a891a",
   "metadata": {},
   "outputs": [],
   "source": [
    "info_table = main.find('ul', class_='specs row')"
   ]
  },
  {
   "cell_type": "code",
   "execution_count": 9,
   "id": "7deb5835-f445-43a4-9c18-db4993a51872",
   "metadata": {},
   "outputs": [],
   "source": [
    "info_row = info_table.find_all('li')"
   ]
  },
  {
   "cell_type": "code",
   "execution_count": 10,
   "id": "06f6c6d6-87c9-454d-b68f-b43fde5e6077",
   "metadata": {},
   "outputs": [],
   "source": [
    "lista = main.find(class_='spec-list')\n",
    "info_lista = lista.find_all('li')"
   ]
  },
  {
   "cell_type": "code",
   "execution_count": 11,
   "id": "c20686b3-9463-4575-959c-3e431d952ff4",
   "metadata": {
    "tags": []
   },
   "outputs": [
    {
     "data": {
      "text/plain": [
       "<li>\n",
       "<span class=\"spec-item\">Cantidad de puertas</span>\n",
       "<span class=\"spec-value\">4</span>\n",
       "</li>"
      ]
     },
     "execution_count": 11,
     "metadata": {},
     "output_type": "execute_result"
    }
   ],
   "source": [
    "info_lista[-1]"
   ]
  },
  {
   "cell_type": "code",
   "execution_count": 12,
   "id": "b105b31e-b3a6-456e-91fe-d7342a551941",
   "metadata": {
    "tags": []
   },
   "outputs": [],
   "source": [
    "car_info = {}\n",
    "\n",
    "for idx, row in enumerate(info_row):\n",
    "    car_info['url'] = r.url\n",
    "    car_info['title'] = title\n",
    "    car_info['currency'] = currency\n",
    "    car_info['price'] = price\n",
    "    car_info['puertas'] = info_lista[-1].find(class_='spec-value').get_text()\n",
    "    content_key = row.find(class_='title').get_text()\n",
    "    content_value = row.find(class_='desc').get_text()\n",
    "    car_info[content_key] = content_value"
   ]
  },
  {
   "cell_type": "code",
   "execution_count": 13,
   "id": "1d1b67a1-9851-41ec-8d2f-19b9d12700df",
   "metadata": {},
   "outputs": [
    {
     "data": {
      "text/plain": [
       "{'url': 'https://auto.deautos.com/usados-honda-civic-exl-2-0-l-17-sedan-nafta-gran-buenos-aires-san-isidro-martinez/2018_4200805',\n",
       " 'title': 'Honda Civic EXL 2.0 L/17',\n",
       " 'currency': '$',\n",
       " 'price': '3650000',\n",
       " 'puertas': '4',\n",
       " 'Cilindrada': '2',\n",
       " 'Dirección': 'Asistída',\n",
       " 'Caja': 'Automática',\n",
       " 'Llantas de aleación': '17 pulgadas',\n",
       " 'Combustible': 'Nafta',\n",
       " 'Color': 'Gris Oscuro',\n",
       " 'Kilometraje': '44000'}"
      ]
     },
     "execution_count": 13,
     "metadata": {},
     "output_type": "execute_result"
    }
   ],
   "source": [
    "car_info"
   ]
  },
  {
   "cell_type": "markdown",
   "id": "2aac0f23-49b0-45f6-8fac-42af5c8d4fad",
   "metadata": {},
   "source": [
    "### Info para todos los autos\n"
   ]
  },
  {
   "cell_type": "code",
   "execution_count": 14,
   "id": "fe1619cf-0e6a-4543-8138-b089176c81b0",
   "metadata": {},
   "outputs": [],
   "source": [
    "r = requests.get('https://listado.deautos.com/autos-usados/VTYY1')\n",
    "soup = bs(r.content)\n",
    "contents = soup.prettify()\n",
    "\n",
    "caption = soup.find_all(class_='caption')"
   ]
  },
  {
   "cell_type": "code",
   "execution_count": 15,
   "id": "c6173c1a-bfe3-4686-a5bf-03bf2e60074b",
   "metadata": {},
   "outputs": [],
   "source": [
    "cars = soup.select('.wrapper-image')"
   ]
  },
  {
   "cell_type": "code",
   "execution_count": 16,
   "id": "bd6e2949-5b1e-44c4-b974-4f463a48b857",
   "metadata": {},
   "outputs": [
    {
     "data": {
      "text/plain": [
       "'https://auto.deautos.com/usados-honda-civic-exl-2-0-l-17-sedan-nafta-gran-buenos-aires-san-isidro-martinez/2018_4200556'"
      ]
     },
     "execution_count": 16,
     "metadata": {},
     "output_type": "execute_result"
    }
   ],
   "source": [
    "cars[0]['href']"
   ]
  },
  {
   "cell_type": "code",
   "execution_count": 17,
   "id": "42defa11-bd32-4844-93b3-9d60d5230dd9",
   "metadata": {},
   "outputs": [
    {
     "data": {
      "text/plain": [
       "30"
      ]
     },
     "execution_count": 17,
     "metadata": {},
     "output_type": "execute_result"
    }
   ],
   "source": [
    "len(cars)"
   ]
  },
  {
   "cell_type": "code",
   "execution_count": null,
   "id": "52143f4e-0b50-48da-9456-add22186b235",
   "metadata": {},
   "outputs": [],
   "source": []
  },
  {
   "cell_type": "code",
   "execution_count": 31,
   "id": "55ec79dd-44ff-46f8-9ce5-b25f443e2b4e",
   "metadata": {},
   "outputs": [],
   "source": [
    "def get_info(url):\n",
    "    try:\n",
    "        r = requests.get(url)\n",
    "        soup = bs(r.content)\n",
    "        contents = soup.prettify()\n",
    "        main = soup.find('div', attrs={'class':'container'})\n",
    "        title = main.find('h4', class_='brand-model-version').get_text()\n",
    "\n",
    "        p1 = re.compile(\"\\d\")\n",
    "        p2 = re.compile(\"\\D\")\n",
    "        currency = p1.split(main.find(class_='price').get_text().replace(\".\",\"\"))[0]\n",
    "        if currency == 'U$S':\n",
    "            price = p2.split(main.find(class_='price').get_text().replace(\".\",\"\"))[3]\n",
    "        else:\n",
    "            price = p2.split(main.find(class_='price').get_text().replace(\".\",\"\"))[1]\n",
    "\n",
    "        info_table = main.find('ul', class_='specs row')\n",
    "        info_row = info_table.find_all('li')\n",
    "        lista = main.find(class_='spec-list')\n",
    "        info_lista = lista.find_all('li')\n",
    "\n",
    "        car_info = {}\n",
    "\n",
    "        for idx, row in enumerate(info_row):\n",
    "            car_info['utl'] = r.url\n",
    "            car_info['title'] = title\n",
    "            car_info['currency'] = currency\n",
    "            car_info['price'] = price\n",
    "            car_info['puertas'] = info_lista[-1].find(class_='spec-value').get_text()\n",
    "            content_key = row.find(class_='title').get_text()\n",
    "            content_value = row.find(class_='desc').get_text()\n",
    "            car_info[content_key] = content_value\n",
    "\n",
    "        return car_info\n",
    "    except Exception as e:\n",
    "        print(e)"
   ]
  },
  {
   "cell_type": "code",
   "execution_count": null,
   "id": "71f34fcd-3fc9-4943-a56f-80fc6ccc8185",
   "metadata": {},
   "outputs": [
    {
     "name": "stdout",
     "output_type": "stream",
     "text": [
      "Page 1\n",
      "--------------------\n",
      "'NoneType' object has no attribute 'find'\n",
      "'NoneType' object has no attribute 'find'\n",
      "'NoneType' object has no attribute 'find'\n",
      "'NoneType' object has no attribute 'find'\n",
      "'NoneType' object has no attribute 'find'\n",
      "'NoneType' object has no attribute 'find'\n",
      "'NoneType' object has no attribute 'find'\n",
      "'NoneType' object has no attribute 'find'\n",
      "'NoneType' object has no attribute 'find'\n",
      "'NoneType' object has no attribute 'find'\n",
      "'NoneType' object has no attribute 'find'\n",
      "'NoneType' object has no attribute 'find'\n",
      "Page 2\n",
      "--------------------\n",
      "'NoneType' object has no attribute 'find'\n",
      "'NoneType' object has no attribute 'find'\n",
      "'NoneType' object has no attribute 'find'\n",
      "'NoneType' object has no attribute 'find'\n",
      "'NoneType' object has no attribute 'find'\n",
      "'NoneType' object has no attribute 'find'\n",
      "'NoneType' object has no attribute 'find'\n",
      "'NoneType' object has no attribute 'find'\n",
      "'NoneType' object has no attribute 'find'\n",
      "'NoneType' object has no attribute 'find'\n",
      "Page 3\n",
      "--------------------\n",
      "'NoneType' object has no attribute 'find'\n",
      "Page 4\n",
      "--------------------\n",
      "Page 5\n",
      "--------------------\n",
      "Page 6\n",
      "--------------------\n",
      "Page 7\n",
      "--------------------\n",
      "Page 8\n",
      "--------------------\n",
      "Page 9\n",
      "--------------------\n",
      "Page 10\n",
      "--------------------\n",
      "Page 11\n",
      "--------------------\n",
      "Page 12\n",
      "--------------------\n",
      "Page 13\n",
      "--------------------\n",
      "Page 14\n",
      "--------------------\n",
      "Page 15\n",
      "--------------------\n",
      "Page 16\n",
      "--------------------\n",
      "Page 17\n",
      "--------------------\n",
      "Page 18\n",
      "--------------------\n",
      "Page 19\n",
      "--------------------\n",
      "Page 20\n",
      "--------------------\n",
      "Page 21\n",
      "--------------------\n",
      "Page 22\n",
      "--------------------\n",
      "Page 23\n",
      "--------------------\n",
      "Page 24\n",
      "--------------------\n",
      "Page 25\n",
      "--------------------\n",
      "Page 26\n",
      "--------------------\n",
      "Page 27\n",
      "--------------------\n",
      "Page 28\n",
      "--------------------\n",
      "Page 29\n",
      "--------------------\n"
     ]
    }
   ],
   "source": [
    "\n",
    "car_info_list = []\n",
    "\n",
    "i= 1\n",
    "\n",
    "while True:\n",
    "    try:\n",
    "        if i == 1:\n",
    "            r = requests.get('https://listado.deautos.com/autos-usados/VTYY1WWPGYY')\n",
    "            i = i+1\n",
    "        elif r.status_code != 200:\n",
    "            break\n",
    "        else:\n",
    "            r = requests.get('https://listado.deautos.com/autos-usados/VTYY'+str(i))\n",
    "            i += 1\n",
    "\n",
    "        soup = bs(r.content)\n",
    "        cars = soup.select('.wrapper-image')\n",
    "        print(f'Page {i-1}')\n",
    "        print('--------------------')\n",
    "        \n",
    "        for idx, car in enumerate(cars):\n",
    "            path = car['href']\n",
    "            car_info_list.append(get_info(path))\n",
    "\n",
    "    except Exception as e:\n",
    "        print(car['href'])\n",
    "        print(e)\n",
    "    "
   ]
  },
  {
   "cell_type": "code",
   "execution_count": 41,
   "id": "99f140f5-a9cc-40c8-8b63-590ea9cada01",
   "metadata": {},
   "outputs": [
    {
     "data": {
      "text/plain": [
       "61"
      ]
     },
     "execution_count": 41,
     "metadata": {},
     "output_type": "execute_result"
    }
   ],
   "source": [
    "len(car_info_list)"
   ]
  },
  {
   "cell_type": "code",
   "execution_count": null,
   "id": "b34cff75-0ec8-4b50-b805-609b90d2fa47",
   "metadata": {},
   "outputs": [],
   "source": []
  }
 ],
 "metadata": {
  "kernelspec": {
   "display_name": "Python 3 (ipykernel)",
   "language": "python",
   "name": "python3"
  },
  "language_info": {
   "codemirror_mode": {
    "name": "ipython",
    "version": 3
   },
   "file_extension": ".py",
   "mimetype": "text/x-python",
   "name": "python",
   "nbconvert_exporter": "python",
   "pygments_lexer": "ipython3",
   "version": "3.9.12"
  }
 },
 "nbformat": 4,
 "nbformat_minor": 5
}
